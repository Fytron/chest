{
  "cells": [
    {
      "cell_type": "code",
      "execution_count": null,
      "id": "11aa3d42",
      "metadata": {
        "id": "11aa3d42"
      },
      "outputs": [],
      "source": [
        "import numpy as np\n",
        "import matplotlib.pyplot as plt\n",
        "from sklearn.datasets import load_iris\n",
        "from sklearn.datasets import load_breast_cancer\n",
        "from sklearn.datasets import load_wine\n",
        "np.random.seed(12345) # Set initial random seed"
      ]
    },
    {
      "cell_type": "code",
      "execution_count": null,
      "id": "1d1324b7",
      "metadata": {
        "id": "1d1324b7"
      },
      "outputs": [],
      "source": [
        "def activate(a, f=\"none\"):\n",
        "\n",
        "    if f==\"none\":\n",
        "        y = a\n",
        "    elif f == \"relu\":\n",
        "        y = np.maximum(a,0)\n",
        "    elif f == \"sigmoid\":\n",
        "        y = 0.5 * (np.tanh(a/2) + 1)\n",
        "    elif f == \"softmax\":\n",
        "        a = a - np.max(a, axis=1, keepdims=True)\n",
        "        exp_a = np.exp(a)\n",
        "        y = exp_a / np.sum(exp_a, axis=1, keepdims=True)\n",
        "    return y\n",
        "\n",
        "def d_activate(a, f=\"none\"):\n",
        "    # Derivatives of activation functions\n",
        "    if f==\"none\":\n",
        "        dy = np.ones_like(a)\n",
        "    elif f == \"relu\":\n",
        "        dy = 1 * (a > 0)\n",
        "    elif f == \"sigmoid\":\n",
        "        s = 0.5 * (np.tanh(a/2) + 1)\n",
        "        dy = s * (1 - s)\n",
        "    elif f == \"softmax\":\n",
        "        a = a - np.max(a, axis=1, keepdims=True)\n",
        "        exp_a = np.exp(a)\n",
        "        s = exp_a / np.sum(exp_a, axis=1, keepdims=True)\n",
        "        dy = np.diag(s) - np.outer(s, s.T)\n",
        "    return dy\n",
        "\n",
        "def train_test_split(X, y, test_size=0.2):\n",
        "    shuffle_idx = np.random.permutation(len(X))\n",
        "    test_idx = int(len(X) * test_size)\n",
        "    X_train = X[shuffle_idx[test_idx:]]\n",
        "    y_train = y[shuffle_idx[test_idx:]]\n",
        "    X_test = X[shuffle_idx[:test_idx]]\n",
        "    y_test = y[shuffle_idx[:test_idx]]\n",
        "    return X_train, X_test, y_train, y_test\n",
        "\n",
        "def shuffle_and_batch_data(data, data_target, batch_size):\n",
        "    idx = np.random.permutation(data.shape[0])\n",
        "    shuffled_data = data[idx]\n",
        "    shuffled_data_target = data_target[idx]\n",
        "    num_batches = data.shape[0] // batch_size\n",
        "    data_batches = np.array_split(shuffled_data, num_batches)\n",
        "    target_batches = np.array_split(shuffled_data_target, num_batches)\n",
        "    return data_batches, target_batches, num_batches"
      ]
    },
    {
      "cell_type": "code",
      "execution_count": null,
      "id": "c264e3a1",
      "metadata": {
        "id": "c264e3a1"
      },
      "outputs": [],
      "source": [
        "class NeuralNetwork():\n",
        "\n",
        "    def __init__(self, train_data, test_data, n_input, n_output, n_hidden):\n",
        "        self.train_data = train_data\n",
        "        self.test_data = test_data\n",
        "        self.n_output = n_output\n",
        "        self.vwb, self.wb = self._init_param(\n",
        "            n_input, n_hidden, n_output\n",
        "        )\n",
        "        self.activations = [\"sigmoid\"] * len(n_hidden) + [\"softmax\"]\n",
        "        self.losses = []\n",
        "\n",
        "    def _init_param(self, n_input, n_hidden, n_output):\n",
        "        l = len(n_hidden)\n",
        "        vwb, wb = {}, {}\n",
        "\n",
        "        wb[\"W1\"] = np.random.randn(n_input, n_hidden[0])\n",
        "        wb[\"b1\"] = np.zeros((1, n_hidden[0]))\n",
        "\n",
        "        for i in range(1, l):\n",
        "            wb[f\"W{i+1}\"] = np.random.randn(n_hidden[i-1], n_hidden[i])\n",
        "            wb[f\"b{i+1}\"] = np.zeros((1, n_hidden[i]))\n",
        "            vwb[f\"vW{i}\"], vwb[f\"vb{i}\"] = 0, 0\n",
        "            vwb[f\"vW{i+1}\"], vwb[f\"vb{i+1}\"] = 0, 0\n",
        "\n",
        "        wb[f\"W{l+1}\"] = np.random.randn(n_hidden[-1], n_output)\n",
        "        wb[f\"b{l+1}\"] = np.zeros((1, n_output))\n",
        "        vwb[f\"vW{l+1}\"], vwb[f\"vb{l+1}\"] = 0, 0\n",
        "\n",
        "        return vwb, wb\n",
        "\n",
        "    def _compute_loss_and_propagation(self, n_output, data_batches, target_batches, wb, f):\n",
        "        # Forward propagation\n",
        "        y_hat, fp = self._forward_propagation(data_batches, wb, f)\n",
        "\n",
        "        # Convert target labels to one-hot encoded matrix\n",
        "        y = np.zeros((target_batches.shape[0], n_output))\n",
        "        y[np.arange(target_batches.shape[0]), target_batches] = 1\n",
        "\n",
        "        # Compute loss\n",
        "        loss = self._cross_entropy_loss(y, y_hat)\n",
        "\n",
        "        # Backward propagation\n",
        "        bp = self._backpropagation(y, y_hat, data_batches, wb, fp, f)\n",
        "\n",
        "        return loss, fp, bp\n",
        "\n",
        "    def _forward_propagation(self, data_batches, wb, f):\n",
        "        l = len(wb)\n",
        "        fp = {}\n",
        "        fp[\"z1\"] = np.dot(data_batches, wb[\"W1\"]) + wb[\"b1\"]\n",
        "\n",
        "        for i in range(1, int(l/2)):\n",
        "            fp[f\"a{i}\"] = activate(fp[f\"z{i}\"], f[i-1])\n",
        "            fp[f\"z{i+1}\"] = np.dot(fp[f\"a{i}\"], wb[f\"W{i+1}\"]) + wb[f\"b{i+1}\"]\n",
        "\n",
        "        y_hat = activate(fp[f\"z{int(l/2)}\"], f[-1])\n",
        "\n",
        "        return y_hat, fp\n",
        "\n",
        "    def _backpropagation(self, y, y_hat, data_batches, wb, fp, f):\n",
        "        l = int(np.floor(len(fp)/2))\n",
        "        bp = {}\n",
        "\n",
        "        dL_dy_hat = (y_hat - y) / y.shape[0]\n",
        "        bp[f\"dL_dz{l+1}\"] = dL_dy_hat * d_activate(fp[f\"z{l+1}\"], f[-2])\n",
        "\n",
        "        for i in reversed(range(l)):\n",
        "            bp[f\"dL_da{i+1}\"] = np.dot(bp[f\"dL_dz{i+2}\"], wb[f\"W{i+2}\"].T)\n",
        "            bp[f\"dL_dz{i+1}\"] = bp[f\"dL_da{i+1}\"] * d_activate(fp[f\"z{i+1}\"], f[i])\n",
        "\n",
        "        for i in reversed(range(l)):\n",
        "            bp[f\"dL_dW{i+2}\"] = np.dot(np.transpose(fp[f\"a{i+1}\"]), bp[f\"dL_dz{i+2}\"])\n",
        "            bp[f\"dL_db{i+2}\"] = np.sum(bp[f\"dL_dz{i+2}\"], axis=0, keepdims=True)\n",
        "\n",
        "        bp[f\"dL_dW1\"] = np.dot(np.transpose(data_batches), bp[f\"dL_dz1\"])\n",
        "        bp[f\"dL_db1\"] = np.sum(bp[f\"dL_dz1\"], axis=0, keepdims=True)\n",
        "\n",
        "        return bp\n",
        "\n",
        "    def _cross_entropy_loss(self, y, y_hat):\n",
        "        # Compute the cross-entropy loss\n",
        "        eps = 1e-8\n",
        "        y_hat = np.clip(y_hat, eps, 1 - eps)\n",
        "        loss = -np.mean(y * np.log(y_hat) + (1 - y) * np.log(1 - y_hat))\n",
        "        return loss\n",
        "\n",
        "    def _update_weights_and_biases (self, grad, mf, lr):\n",
        "        l = int(np.floor(len(self.wb)/2))\n",
        "        for i in range(1, l+1):\n",
        "            self.vwb[f\"vW{i}\"] = mf * self.vwb[f\"vW{i}\"] + (1 - mf) * grad[f\"dL_dW{i}\"]\n",
        "            self.vwb[f\"vb{i}\"] = mf * self.vwb[f\"vb{i}\"] + (1 - mf) * grad[f\"dL_db{i}\"]\n",
        "            self.wb[f\"W{i}\"] -= lr * self.vwb[f\"vW{i}\"]\n",
        "            self.wb[f\"b{i}\"] -= lr * self.vwb[f\"vb{i}\"]\n",
        "\n",
        "    def train(self, num_epochs=50, batch_size=32, mf=0.9 ,lr=0.001):\n",
        "        # Train the neural network\n",
        "        for i in range(num_epochs):\n",
        "\n",
        "            loss_total = 0\n",
        "            data_batches, target_batches, num_batches = shuffle_and_batch_data(\n",
        "                self.train_data.data,\n",
        "                self.train_data.target,\n",
        "                batch_size\n",
        "            )\n",
        "\n",
        "            for j in range(num_batches):\n",
        "\n",
        "                loss, self.fp, self.bp = self._compute_loss_and_propagation(\n",
        "                    self.n_output, data_batches[j], target_batches[j], self.wb, self.activations\n",
        "                )\n",
        "                # Update total loss\n",
        "                loss_total += loss\n",
        "\n",
        "                # Update weights and biases using p optimizer\n",
        "                self._update_weights_and_biases(self.bp, mf, lr)\n",
        "\n",
        "            # Print the loss every 100 epochs\n",
        "            if i % 100 == 0:\n",
        "                print(f\"Epoch {i}, loss: {loss:.4f}\")\n",
        "\n",
        "            # Store the loss value\n",
        "            self.losses.append(loss)\n",
        "\n",
        "        # Print the average loss for the last epoch\n",
        "        avg_loss = loss_total / num_batches\n",
        "        print(f\"Epoch {i+1}: average loss = {avg_loss}\")\n",
        "\n",
        "        # Plot the loss\n",
        "        plt.plot(self.losses)\n",
        "        plt.xlabel('Epoch')\n",
        "        plt.ylabel('Loss')\n",
        "        plt.show()\n",
        "\n",
        "    def evaluate(self):\n",
        "        l = int(np.floor(len(self.wb)/2))\n",
        "\n",
        "        # Evaluate the trained model on test data\n",
        "        self.fp[\"z1\"] = np.dot(self.test_data.data, self.wb[\"W1\"]) + self.wb[\"b1\"]\n",
        "\n",
        "        for i in range(1, l):\n",
        "            self.fp[f\"a{i}\"] = activate(self.fp[f\"z{i}\"], self.activations[i-1])\n",
        "            self.fp[f\"z{i+1}\"] = np.dot(self.fp[f\"a{i}\"], self.wb[f\"W{i+1}\"]) + self.wb[f\"b{i+1}\"]\n",
        "\n",
        "        y_hat = activate(self.fp[f\"z{l}\"], self.activations[-1])\n",
        "        predictions = np.argmax(y_hat, axis=1)\n",
        "        accuracy = np.mean(predictions == self.test_data.target)\n",
        "        print(f\"Test Accuracy: {accuracy:.4f}\")"
      ]
    },
    {
      "cell_type": "markdown",
      "id": "95817906",
      "metadata": {
        "id": "95817906"
      },
      "source": [
        "# Iris Dataset"
      ]
    },
    {
      "cell_type": "markdown",
      "id": "f8249406",
      "metadata": {
        "id": "f8249406"
      },
      "source": [
        "<div style=\"border-radius:5px;background-color:#333333;padding:25px;color:#FFFFFF\">Just testing out something new.</div>"
      ]
    },
    {
      "cell_type": "code",
      "execution_count": null,
      "id": "cbcbc936",
      "metadata": {
        "scrolled": false,
        "id": "cbcbc936",
        "outputId": "d1fc80b9-d074-434d-da19-f08148d1dcb0"
      },
      "outputs": [
        {
          "name": "stdout",
          "output_type": "stream",
          "text": [
            "learning_rate = 0.01, epochs=2000, hidden_ly=[256, 128, 64, 32, 16], batch=32, momentum=0.5\n",
            "Epoch 0, loss: 1.5630\n",
            "Epoch 100, loss: 0.4413\n",
            "Epoch 200, loss: 0.2662\n",
            "Epoch 300, loss: 0.2878\n",
            "Epoch 400, loss: 0.2626\n",
            "Epoch 500, loss: 0.1782\n",
            "Epoch 600, loss: 0.1736\n",
            "Epoch 700, loss: 0.1651\n",
            "Epoch 800, loss: 0.1372\n",
            "Epoch 900, loss: 0.1188\n",
            "Epoch 1000, loss: 0.1590\n",
            "Epoch 1100, loss: 0.1130\n",
            "Epoch 1200, loss: 0.1149\n",
            "Epoch 1300, loss: 0.1266\n",
            "Epoch 1400, loss: 0.1136\n",
            "Epoch 1500, loss: 0.0900\n",
            "Epoch 1600, loss: 0.1036\n",
            "Epoch 1700, loss: 0.0988\n",
            "Epoch 1800, loss: 0.0808\n",
            "Epoch 1900, loss: 0.0804\n",
            "Epoch 2000: average loss = 0.08399786005006264\n"
          ]
        },
        {
          "data": {
            "image/png": "[encoded data removed]",
            "text/plain": [
              "<Figure size 432x288 with 1 Axes>"
            ]
          },
          "metadata": {
            "needs_background": "light"
          },
          "output_type": "display_data"
        },
        {
          "name": "stdout",
          "output_type": "stream",
          "text": [
            "Test Accuracy: 1.0000\n"
          ]
        }
      ],
      "source": [
        "iris = load_iris()\n",
        "n_input = iris.data.shape[1]\n",
        "n_output = 3\n",
        "# Iris Hyperparameters 2\n",
        "learning_rate = 0.01\n",
        "num_epochs = 2000\n",
        "hidden_ly = [256, 128, 64, 32, 16]\n",
        "batch_size = 32\n",
        "momentum = 0.5\n",
        "\n",
        "# Split the data into training and testing sets\n",
        "X_train, X_test, y_train, y_test = train_test_split(iris.data, iris.target, test_size=0.2)\n",
        "\n",
        "# Create train and test datasets\n",
        "train_data = load_iris()\n",
        "train_data.data, train_data.target = X_train, y_train\n",
        "test_data = load_iris()\n",
        "test_data.data, test_data.target = X_test, y_test\n",
        "\n",
        "print(f\"learning_rate = {learning_rate}, epochs={num_epochs}, hidden_ly={hidden_ly}, batch={batch_size}, momentum={momentum}\")\n",
        "nn = NeuralNetwork(train_data, test_data, n_input, n_output, hidden_ly)\n",
        "nn.train(num_epochs, batch_size, momentum, learning_rate)\n",
        "nn.evaluate()"
      ]
    },
    {
      "cell_type": "code",
      "execution_count": null,
      "id": "6f5a7d98",
      "metadata": {
        "id": "6f5a7d98",
        "outputId": "f2656d81-64a7-4d32-ca8f-73b693c5421a"
      },
      "outputs": [
        {
          "name": "stdout",
          "output_type": "stream",
          "text": [
            "learning_rate = 0.01, epochs=1800, hidden_ly=[64, 32, 16], batch=32, momentum=0.5\n",
            "Epoch 0, loss: 1.2004\n",
            "Epoch 100, loss: 0.7407\n",
            "Epoch 200, loss: 0.6787\n",
            "Epoch 300, loss: 0.6276\n",
            "Epoch 400, loss: 0.6076\n",
            "Epoch 500, loss: 0.5875\n",
            "Epoch 600, loss: 0.5537\n",
            "Epoch 700, loss: 0.4987\n",
            "Epoch 800, loss: 0.5020\n",
            "Epoch 900, loss: 0.4335\n",
            "Epoch 1000, loss: 0.4159\n",
            "Epoch 1100, loss: 0.3774\n",
            "Epoch 1200, loss: 0.3328\n",
            "Epoch 1300, loss: 0.3192\n",
            "Epoch 1400, loss: 0.2753\n",
            "Epoch 1500, loss: 0.2966\n",
            "Epoch 1600, loss: 0.2676\n",
            "Epoch 1700, loss: 0.2388\n",
            "Epoch 1800: average loss = 0.23199085417417953\n"
          ]
        },
        {
          "data": {
            "image/png": "[encoded data removed]",
            "text/plain": [
              "<Figure size 432x288 with 1 Axes>"
            ]
          },
          "metadata": {
            "needs_background": "light"
          },
          "output_type": "display_data"
        },
        {
          "name": "stdout",
          "output_type": "stream",
          "text": [
            "Test Accuracy: 0.9333\n"
          ]
        }
      ],
      "source": [
        "# Iris Hyperparameters 2\n",
        "learning_rate = 0.01\n",
        "num_epochs = 1800\n",
        "hidden_ly = [64,32,16]\n",
        "n_hidden1 = 64\n",
        "n_hidden2 = 32\n",
        "n_hidden3 = 16\n",
        "batch_size= 32\n",
        "momentum = 0.5\n",
        "n_output=3\n",
        "print(f\"learning_rate = {learning_rate}, epochs={num_epochs}, hidden_ly={hidden_ly}, batch={batch_size}, momentum={momentum}\")\n",
        "nn = NeuralNetwork(train_data, test_data, n_input, n_output, hidden_ly)\n",
        "nn.train(num_epochs, batch_size, momentum, learning_rate)\n",
        "nn.evaluate()"
      ]
    },
    {
      "cell_type": "markdown",
      "id": "20d86315",
      "metadata": {
        "id": "20d86315"
      },
      "source": [
        "# Breast Cancer Dataset\n"
      ]
    },
    {
      "cell_type": "code",
      "execution_count": null,
      "id": "b22c2214",
      "metadata": {
        "id": "b22c2214",
        "outputId": "eb306da6-d184-4a81-a63a-5f2283b38043"
      },
      "outputs": [
        {
          "name": "stdout",
          "output_type": "stream",
          "text": [
            "learning_rate = 0.01, epochs=1500, hidden_ly=[128, 64, 32], batch=32, momentum=0.5\n",
            "Epoch 0, loss: 0.8581\n",
            "Epoch 100, loss: 0.6512\n",
            "Epoch 200, loss: 0.4726\n",
            "Epoch 300, loss: 0.5793\n",
            "Epoch 400, loss: 0.3126\n",
            "Epoch 500, loss: 0.2275\n",
            "Epoch 600, loss: 0.2604\n",
            "Epoch 700, loss: 0.1549\n",
            "Epoch 800, loss: 0.2283\n",
            "Epoch 900, loss: 0.1702\n",
            "Epoch 1000, loss: 0.0819\n",
            "Epoch 1100, loss: 0.3392\n",
            "Epoch 1200, loss: 0.1040\n",
            "Epoch 1300, loss: 0.1751\n",
            "Epoch 1400, loss: 0.0740\n",
            "Epoch 1500: average loss = 0.2016640990937622\n"
          ]
        },
        {
          "data": {
            "image/png": "[encoded data removed]",
            "text/plain": [
              "<Figure size 432x288 with 1 Axes>"
            ]
          },
          "metadata": {
            "needs_background": "light"
          },
          "output_type": "display_data"
        },
        {
          "name": "stdout",
          "output_type": "stream",
          "text": [
            "Test Accuracy: 0.9115\n"
          ]
        }
      ],
      "source": [
        "breast_cancer = load_breast_cancer()\n",
        "# Hyperparameters for breast_cancer 1\n",
        "n_input = breast_cancer.data.shape[1]\n",
        "learning_rate = 0.01\n",
        "num_epochs = 1500\n",
        "hidden_ly=[128,64,32]\n",
        "batch_size = 32\n",
        "momentum = 0.5\n",
        "n_output=2\n",
        "\n",
        "# Split the data into training and testing sets\n",
        "X_train, X_test, y_train, y_test = train_test_split(breast_cancer.data, breast_cancer.target, test_size=0.2)\n",
        "\n",
        "# Create train and test datasets\n",
        "train_data = load_breast_cancer()\n",
        "train_data.data, train_data.target = X_train, y_train\n",
        "test_data = load_breast_cancer()\n",
        "test_data.data, test_data.target = X_test, y_test\n",
        "\n",
        "print(f\"learning_rate = {learning_rate}, epochs={num_epochs}, hidden_ly={hidden_ly}, batch={batch_size}, momentum={momentum}\")\n",
        "nn = NeuralNetwork(train_data, test_data, n_input, n_output, hidden_ly)\n",
        "nn.train(num_epochs, batch_size, momentum, learning_rate)\n",
        "nn.evaluate()"
      ]
    },
    {
      "cell_type": "code",
      "execution_count": null,
      "id": "6a120c2f",
      "metadata": {
        "id": "6a120c2f",
        "outputId": "a77000ff-af69-4641-b428-676ccc7e5629"
      },
      "outputs": [
        {
          "name": "stdout",
          "output_type": "stream",
          "text": [
            "learning_rate = 0.01, epochs=1500, hidden_ly=[128, 64, 32], batch=32, momentum=0.5\n",
            "Epoch 0, loss: 0.8160\n",
            "Epoch 100, loss: 0.2637\n",
            "Epoch 200, loss: 0.3170\n",
            "Epoch 300, loss: 0.3451\n",
            "Epoch 400, loss: 0.2174\n",
            "Epoch 500, loss: 0.2772\n",
            "Epoch 600, loss: 0.1864\n",
            "Epoch 700, loss: 0.1319\n",
            "Epoch 800, loss: 0.3055\n",
            "Epoch 900, loss: 0.2794\n",
            "Epoch 1000, loss: 0.2592\n",
            "Epoch 1100, loss: 0.0718\n",
            "Epoch 1200, loss: 0.2715\n",
            "Epoch 1300, loss: 0.2153\n",
            "Epoch 1400, loss: 0.2629\n",
            "Epoch 1500: average loss = 0.2174404305574246\n"
          ]
        },
        {
          "data": {
            "image/png": "[encoded data removed]",
            "text/plain": [
              "<Figure size 432x288 with 1 Axes>"
            ]
          },
          "metadata": {
            "needs_background": "light"
          },
          "output_type": "display_data"
        },
        {
          "name": "stdout",
          "output_type": "stream",
          "text": [
            "Test Accuracy: 0.9469\n"
          ]
        }
      ],
      "source": [
        "# Hyperparameters for breast_cancer 2\n",
        "n_input = breast_cancer.data.shape[1]\n",
        "learning_rate = 0.01\n",
        "num_epochs =1500\n",
        "hidden_ly= [128,64,32]\n",
        "batch_size = 32\n",
        "momentum = 0.5\n",
        "n_output=2\n",
        "print(f\"learning_rate = {learning_rate}, epochs={num_epochs}, hidden_ly={hidden_ly}, batch={batch_size}, momentum={momentum}\")\n",
        "nn1 = NeuralNetwork(train_data, test_data, n_input, n_output, hidden_ly)\n",
        "nn1.train(num_epochs, batch_size, momentum, learning_rate)\n",
        "nn1.evaluate()"
      ]
    },
    {
      "cell_type": "code",
      "execution_count": null,
      "id": "3e0fa59e",
      "metadata": {
        "id": "3e0fa59e",
        "outputId": "fc49dda8-a194-4c57-cf1b-908783fa908d"
      },
      "outputs": [
        {
          "name": "stdout",
          "output_type": "stream",
          "text": [
            "learning_rate = 0.001, epochs=2500, hidden_ly=[256, 128, 64], batch=32, momentum=0.5\n",
            "Epoch 0, loss: 1.7671\n",
            "Epoch 100, loss: 2.0456\n",
            "Epoch 200, loss: 1.5514\n",
            "Epoch 300, loss: 1.4552\n",
            "Epoch 400, loss: 1.0415\n",
            "Epoch 500, loss: 1.5195\n",
            "Epoch 600, loss: 1.9839\n",
            "Epoch 700, loss: 1.1305\n",
            "Epoch 800, loss: 0.7912\n",
            "Epoch 900, loss: 1.4511\n",
            "Epoch 1000, loss: 1.3052\n",
            "Epoch 1100, loss: 0.8273\n",
            "Epoch 1200, loss: 1.1406\n",
            "Epoch 1300, loss: 1.4405\n",
            "Epoch 1400, loss: 1.6281\n",
            "Epoch 1500, loss: 1.9465\n",
            "Epoch 1600, loss: 1.2610\n",
            "Epoch 1700, loss: 1.0747\n",
            "Epoch 1800, loss: 1.0916\n",
            "Epoch 1900, loss: 1.3833\n",
            "Epoch 2000, loss: 1.4460\n",
            "Epoch 2100, loss: 1.0701\n",
            "Epoch 2200, loss: 1.7924\n",
            "Epoch 2300, loss: 1.1005\n",
            "Epoch 2400, loss: 1.0145\n",
            "Epoch 2500: average loss = 1.1733207691257388\n"
          ]
        },
        {
          "data": {
            "image/png": "[encoded data removed]",
            "text/plain": [
              "<Figure size 432x288 with 1 Axes>"
            ]
          },
          "metadata": {
            "needs_background": "light"
          },
          "output_type": "display_data"
        },
        {
          "name": "stdout",
          "output_type": "stream",
          "text": [
            "Test Accuracy: 0.5487\n"
          ]
        }
      ],
      "source": [
        "# Hyperparameters for breast_cancer 3\n",
        "n_input = breast_cancer.data.shape[1]\n",
        "learning_rate = 0.001\n",
        "num_epochs = 2500\n",
        "hidden_ly=[256,128,64]\n",
        "batch_size = 32\n",
        "momentum = 0.5\n",
        "n_output=2\n",
        "print(f\"learning_rate = {learning_rate}, epochs={num_epochs}, hidden_ly={hidden_ly}, batch={batch_size}, momentum={momentum}\")\n",
        "nn1 = NeuralNetwork(train_data, test_data, n_input, n_output, hidden_ly)\n",
        "nn1.train(num_epochs, batch_size, momentum, learning_rate)\n",
        "nn1.evaluate()"
      ]
    },
    {
      "cell_type": "code",
      "execution_count": null,
      "id": "24dbd726",
      "metadata": {
        "id": "24dbd726",
        "outputId": "ac4063c0-1efd-4c97-8f23-6d7b9b2a0647"
      },
      "outputs": [
        {
          "name": "stdout",
          "output_type": "stream",
          "text": [
            "learning_rate = 0.001, epochs=3000, hidden_ly=[128, 64, 64], batch=32, momentum=0.5\n",
            "Epoch 0, loss: 3.0617\n",
            "Epoch 100, loss: 0.5387\n",
            "Epoch 200, loss: 0.2592\n",
            "Epoch 300, loss: 0.2170\n",
            "Epoch 400, loss: 0.3545\n",
            "Epoch 500, loss: 0.3451\n",
            "Epoch 600, loss: 0.5253\n",
            "Epoch 700, loss: 0.3113\n",
            "Epoch 800, loss: 0.1884\n",
            "Epoch 900, loss: 0.2720\n",
            "Epoch 1000, loss: 0.3078\n",
            "Epoch 1100, loss: 0.3335\n",
            "Epoch 1200, loss: 0.2588\n",
            "Epoch 1300, loss: 0.2013\n",
            "Epoch 1400, loss: 0.1532\n",
            "Epoch 1500, loss: 0.1733\n",
            "Epoch 1600, loss: 0.1384\n",
            "Epoch 1700, loss: 0.2813\n",
            "Epoch 1800, loss: 0.2071\n",
            "Epoch 1900, loss: 0.4129\n",
            "Epoch 2000, loss: 0.2695\n",
            "Epoch 2100, loss: 0.1833\n",
            "Epoch 2200, loss: 0.4770\n",
            "Epoch 2300, loss: 0.1320\n",
            "Epoch 2400, loss: 0.2947\n",
            "Epoch 2500, loss: 0.3190\n",
            "Epoch 2600, loss: 0.1848\n",
            "Epoch 2700, loss: 0.2279\n",
            "Epoch 2800, loss: 0.2395\n",
            "Epoch 2900, loss: 0.0765\n",
            "Epoch 3000: average loss = 0.21332140408523342\n"
          ]
        },
        {
          "data": {
            "image/png": "[encoded data removed]",
            "text/plain": [
              "<Figure size 432x288 with 1 Axes>"
            ]
          },
          "metadata": {
            "needs_background": "light"
          },
          "output_type": "display_data"
        },
        {
          "name": "stdout",
          "output_type": "stream",
          "text": [
            "Test Accuracy: 0.9204\n"
          ]
        }
      ],
      "source": [
        "# Hyperparameters for breast_cancer 4\n",
        "n_input = breast_cancer.data.shape[1]\n",
        "learning_rate = 0.001\n",
        "num_epochs = 3000\n",
        "hidden_ly=[128,64,64]\n",
        "batch_size = 32\n",
        "momentum = 0.5\n",
        "n_output=2\n",
        "print(f\"learning_rate = {learning_rate}, epochs={num_epochs}, hidden_ly={hidden_ly}, batch={batch_size}, momentum={momentum}\")\n",
        "nn1 = NeuralNetwork(train_data, test_data, n_input, n_output, hidden_ly)\n",
        "nn1.train(num_epochs, batch_size, momentum, learning_rate)\n",
        "nn1.evaluate()"
      ]
    },
    {
      "cell_type": "markdown",
      "id": "aaf551cb",
      "metadata": {
        "id": "aaf551cb"
      },
      "source": [
        "# Wine Dataset"
      ]
    },
    {
      "cell_type": "code",
      "execution_count": null,
      "id": "09c7f04c",
      "metadata": {
        "scrolled": false,
        "id": "09c7f04c",
        "outputId": "2dda802f-f350-42de-e8ea-9bdfdde00c3a"
      },
      "outputs": [
        {
          "name": "stdout",
          "output_type": "stream",
          "text": [
            "learning_rate = 0.01, epochs=2500, hidden_ly=[256, 128, 64, 32], batch=32, momentum=0.9\n"
          ]
        },
        {
          "ename": "NameError",
          "evalue": "name 'init_param' is not defined",
          "output_type": "error",
          "traceback": [
            "\u001b[1;31m---------------------------------------------------------------------------\u001b[0m",
            "\u001b[1;31mNameError\u001b[0m                                 Traceback (most recent call last)",
            "Input \u001b[1;32mIn [9]\u001b[0m, in \u001b[0;36m<cell line: 22>\u001b[1;34m()\u001b[0m\n\u001b[0;32m     19\u001b[0m test_data\u001b[38;5;241m.\u001b[39mdata, test_data\u001b[38;5;241m.\u001b[39mtarget \u001b[38;5;241m=\u001b[39m X_test, y_test\n\u001b[0;32m     21\u001b[0m \u001b[38;5;28mprint\u001b[39m(\u001b[38;5;124mf\u001b[39m\u001b[38;5;124m\"\u001b[39m\u001b[38;5;124mlearning_rate = \u001b[39m\u001b[38;5;132;01m{\u001b[39;00mlearning_rate\u001b[38;5;132;01m}\u001b[39;00m\u001b[38;5;124m, epochs=\u001b[39m\u001b[38;5;132;01m{\u001b[39;00mnum_epochs\u001b[38;5;132;01m}\u001b[39;00m\u001b[38;5;124m, hidden_ly=\u001b[39m\u001b[38;5;132;01m{\u001b[39;00mhidden_ly\u001b[38;5;132;01m}\u001b[39;00m\u001b[38;5;124m, batch=\u001b[39m\u001b[38;5;132;01m{\u001b[39;00mbatch_size\u001b[38;5;132;01m}\u001b[39;00m\u001b[38;5;124m, momentum=\u001b[39m\u001b[38;5;132;01m{\u001b[39;00mmomentum\u001b[38;5;132;01m}\u001b[39;00m\u001b[38;5;124m\"\u001b[39m)\n\u001b[1;32m---> 22\u001b[0m nn2 \u001b[38;5;241m=\u001b[39m \u001b[43mNeuralNetwork\u001b[49m\u001b[43m(\u001b[49m\u001b[43mtrain_data\u001b[49m\u001b[43m,\u001b[49m\u001b[43m \u001b[49m\u001b[43mtest_data\u001b[49m\u001b[43m,\u001b[49m\u001b[43m \u001b[49m\u001b[43mn_input\u001b[49m\u001b[43m,\u001b[49m\u001b[43m \u001b[49m\u001b[43mn_output\u001b[49m\u001b[43m,\u001b[49m\u001b[43m \u001b[49m\u001b[43mhidden_ly\u001b[49m\u001b[43m)\u001b[49m\n\u001b[0;32m     23\u001b[0m nn2\u001b[38;5;241m.\u001b[39mtrain(num_epochs, batch_size, momentum, learning_rate)\n\u001b[0;32m     24\u001b[0m nn2\u001b[38;5;241m.\u001b[39mevaluate()\n",
            "Input \u001b[1;32mIn [8]\u001b[0m, in \u001b[0;36mNeuralNetwork.__init__\u001b[1;34m(self, train_data, test_data, n_input, n_output, n_hidden)\u001b[0m\n\u001b[0;32m      5\u001b[0m \u001b[38;5;28mself\u001b[39m\u001b[38;5;241m.\u001b[39mtest_data \u001b[38;5;241m=\u001b[39m test_data\n\u001b[0;32m      6\u001b[0m \u001b[38;5;28mself\u001b[39m\u001b[38;5;241m.\u001b[39mn_output \u001b[38;5;241m=\u001b[39m n_output\n\u001b[1;32m----> 7\u001b[0m \u001b[38;5;28mself\u001b[39m\u001b[38;5;241m.\u001b[39mvwb, \u001b[38;5;28mself\u001b[39m\u001b[38;5;241m.\u001b[39mwb \u001b[38;5;241m=\u001b[39m \u001b[43minit_param\u001b[49m(\n\u001b[0;32m      8\u001b[0m     n_input, n_hidden, n_output\n\u001b[0;32m      9\u001b[0m )\n\u001b[0;32m     10\u001b[0m \u001b[38;5;28mself\u001b[39m\u001b[38;5;241m.\u001b[39mactivations \u001b[38;5;241m=\u001b[39m [\u001b[38;5;124m\"\u001b[39m\u001b[38;5;124msigmoid\u001b[39m\u001b[38;5;124m\"\u001b[39m] \u001b[38;5;241m*\u001b[39m \u001b[38;5;28mlen\u001b[39m(n_hidden) \u001b[38;5;241m+\u001b[39m [\u001b[38;5;124m\"\u001b[39m\u001b[38;5;124msoftmax\u001b[39m\u001b[38;5;124m\"\u001b[39m]\n\u001b[0;32m     11\u001b[0m \u001b[38;5;28mself\u001b[39m\u001b[38;5;241m.\u001b[39mlosses \u001b[38;5;241m=\u001b[39m []\n",
            "\u001b[1;31mNameError\u001b[0m: name 'init_param' is not defined"
          ]
        }
      ],
      "source": [
        "# Load the load_wine dataset\n",
        "wine = load_wine()\n",
        "n_input = wine.data.shape[1]\n",
        "# Hyperparameters for wine dataset 1\n",
        "learning_rate = 0.01\n",
        "num_epochs = 2500\n",
        "hidden_ly = [256,128,64,32]\n",
        "batch_size = 32\n",
        "momentum = 0.9\n",
        "n_output = 3\n",
        "\n",
        "# Split the data into training and testing sets\n",
        "X_train, X_test, y_train, y_test = train_test_split(wine.data, wine.target, test_size=0.2)\n",
        "\n",
        "# Create train and test datasets\n",
        "train_data = load_wine()\n",
        "train_data.data, train_data.target = X_train, y_train\n",
        "test_data = load_wine()\n",
        "test_data.data, test_data.target = X_test, y_test\n",
        "\n",
        "print(f\"learning_rate = {learning_rate}, epochs={num_epochs}, hidden_ly={hidden_ly}, batch={batch_size}, momentum={momentum}\")\n",
        "nn2 = NeuralNetwork(train_data, test_data, n_input, n_output, hidden_ly)\n",
        "nn2.train(num_epochs, batch_size, momentum, learning_rate)\n",
        "nn2.evaluate()"
      ]
    },
    {
      "cell_type": "code",
      "execution_count": null,
      "id": "c6d2b6d8",
      "metadata": {
        "id": "c6d2b6d8",
        "outputId": "729a89f5-af3a-4e71-8697-199afbb40fee"
      },
      "outputs": [
        {
          "name": "stdout",
          "output_type": "stream",
          "text": [
            "learning_rate = 0.001, epochs=2500, hidden_ly=[512, 256, 128, 64, 32, 16], batch=32, momentum=0.3\n",
            "Epoch 0, loss: 0.9216\n",
            "Epoch 100, loss: 0.5752\n",
            "Epoch 200, loss: 0.5091\n",
            "Epoch 300, loss: 0.4615\n",
            "Epoch 400, loss: 0.4663\n",
            "Epoch 500, loss: 0.4182\n",
            "Epoch 600, loss: 0.4260\n",
            "Epoch 700, loss: 0.3547\n",
            "Epoch 800, loss: 0.3612\n",
            "Epoch 900, loss: 0.3748\n",
            "Epoch 1000, loss: 0.4401\n",
            "Epoch 1100, loss: 0.3884\n",
            "Epoch 1200, loss: 0.4081\n",
            "Epoch 1300, loss: 0.4276\n",
            "Epoch 1400, loss: 0.3707\n",
            "Epoch 1500, loss: 0.3034\n",
            "Epoch 1600, loss: 0.3575\n",
            "Epoch 1700, loss: 0.3616\n",
            "Epoch 1800, loss: 0.3428\n",
            "Epoch 1900, loss: 0.2972\n",
            "Epoch 2000, loss: 0.2844\n",
            "Epoch 2100, loss: 0.2840\n",
            "Epoch 2200, loss: 0.3328\n",
            "Epoch 2300, loss: 0.3386\n",
            "Epoch 2400, loss: 0.3007\n",
            "Epoch 2500: average loss = 0.30332858303897514\n"
          ]
        },
        {
          "data": {
            "image/png": "[encoded data removed]",
            "text/plain": [
              "<Figure size 432x288 with 1 Axes>"
            ]
          },
          "metadata": {
            "needs_background": "light"
          },
          "output_type": "display_data"
        },
        {
          "name": "stdout",
          "output_type": "stream",
          "text": [
            "Test Accuracy: 0.7714\n"
          ]
        }
      ],
      "source": [
        "# Hyperparameters for wine dataset 2\n",
        "n_input = wine.data.shape[1]\n",
        "learning_rate = 0.001\n",
        "num_epochs = 2500\n",
        "hidden_ly = [512,256,128,64,32,16]\n",
        "batch_size = 32\n",
        "momentum = 0.3\n",
        "n_output = 3\n",
        "print(f\"learning_rate = {learning_rate}, epochs={num_epochs}, hidden_ly={hidden_ly}, batch={batch_size}, momentum={momentum}\")\n",
        "nn2 = NeuralNetwork(train_data, test_data, n_input, n_output, hidden_ly)\n",
        "nn2.train(num_epochs, batch_size, momentum, learning_rate)\n",
        "nn2.evaluate()"
      ]
    },
    {
      "cell_type": "code",
      "execution_count": null,
      "id": "8bd0584b",
      "metadata": {
        "id": "8bd0584b",
        "outputId": "d06e535f-d964-47c7-8d96-663d3cc593b9"
      },
      "outputs": [
        {
          "ename": "NameError",
          "evalue": "name 'wine' is not defined",
          "output_type": "error",
          "traceback": [
            "\u001b[1;31m---------------------------------------------------------------------------\u001b[0m",
            "\u001b[1;31mNameError\u001b[0m                                 Traceback (most recent call last)",
            "Input \u001b[1;32mIn [4]\u001b[0m, in \u001b[0;36m<cell line: 2>\u001b[1;34m()\u001b[0m\n\u001b[0;32m      1\u001b[0m \u001b[38;5;66;03m# Hyperparameters for wine dataset 3\u001b[39;00m\n\u001b[1;32m----> 2\u001b[0m n_input \u001b[38;5;241m=\u001b[39m \u001b[43mwine\u001b[49m\u001b[38;5;241m.\u001b[39mdata\u001b[38;5;241m.\u001b[39mshape[\u001b[38;5;241m1\u001b[39m]\n\u001b[0;32m      3\u001b[0m learning_rate \u001b[38;5;241m=\u001b[39m \u001b[38;5;241m0.01\u001b[39m\n\u001b[0;32m      4\u001b[0m num_epochs \u001b[38;5;241m=\u001b[39m \u001b[38;5;241m2500\u001b[39m\n",
            "\u001b[1;31mNameError\u001b[0m: name 'wine' is not defined"
          ]
        }
      ],
      "source": [
        "# Hyperparameters for wine dataset 3\n",
        "n_input = wine.data.shape[1]\n",
        "learning_rate = 0.01\n",
        "num_epochs = 2500\n",
        "hidden_ly = [256,128,64]\n",
        "batch_size = 32\n",
        "momentum = 0.2\n",
        "n_output = 3\n",
        "print(f\"learning_rate = {learning_rate}, epochs={num_epochs}, hidden_ly={hidden_ly}, batch={batch_size}, momentum={momentum}\")\n",
        "nn2 = NeuralNetwork(train_data, test_data, n_input, n_output, hidden_ly)\n",
        "nn2.train(num_epochs, batch_size, momentum, learning_rate)\n",
        "nn2.evaluate()"
      ]
    },
    {
      "cell_type": "code",
      "execution_count": null,
      "id": "d344277d",
      "metadata": {
        "id": "d344277d",
        "outputId": "9ad754e8-d9b6-487d-859b-9a257cf8e1a5"
      },
      "outputs": [
        {
          "name": "stdout",
          "output_type": "stream",
          "text": [
            "learning_rate = 0.01, epochs=2500, hidden_ly=[256, 128, 32], batch=32, momentum=0.5\n",
            "Epoch 0, loss: 1.1595\n",
            "Epoch 100, loss: 0.4055\n",
            "Epoch 200, loss: 0.3649\n",
            "Epoch 300, loss: 0.3920\n",
            "Epoch 400, loss: 0.3908\n",
            "Epoch 500, loss: 0.4386\n",
            "Epoch 600, loss: 0.3437\n",
            "Epoch 700, loss: 0.4043\n",
            "Epoch 800, loss: 0.3575\n",
            "Epoch 900, loss: 0.4194\n",
            "Epoch 1000, loss: 0.3997\n",
            "Epoch 1100, loss: 0.3451\n",
            "Epoch 1200, loss: 0.4397\n",
            "Epoch 1300, loss: 0.3875\n",
            "Epoch 1400, loss: 0.3586\n",
            "Epoch 1500, loss: 0.3792\n",
            "Epoch 1600, loss: 0.3220\n",
            "Epoch 1700, loss: 0.4440\n",
            "Epoch 1800, loss: 0.3843\n",
            "Epoch 1900, loss: 0.3765\n",
            "Epoch 2000, loss: 0.3528\n",
            "Epoch 2100, loss: 0.3735\n",
            "Epoch 2200, loss: 0.3381\n",
            "Epoch 2300, loss: 0.4049\n",
            "Epoch 2400, loss: 0.3238\n",
            "Epoch 2500: average loss = 0.35698219017693444\n"
          ]
        },
        {
          "data": {
            "image/png": "[encoded data removed]",
            "text/plain": [
              "<Figure size 432x288 with 1 Axes>"
            ]
          },
          "metadata": {
            "needs_background": "light"
          },
          "output_type": "display_data"
        },
        {
          "name": "stdout",
          "output_type": "stream",
          "text": [
            "Test Accuracy: 0.7429\n"
          ]
        }
      ],
      "source": [
        "# Hyperparameters for wine dataset 4\n",
        "n_input = wine.data.shape[1]\n",
        "learning_rate = 0.01\n",
        "num_epochs = 2500\n",
        "hidden_ly = [256,128,32]\n",
        "batch_size = 32\n",
        "momentum = 0.5\n",
        "n_output = 3\n",
        "print(f\"learning_rate = {learning_rate}, epochs={num_epochs}, hidden_ly={hidden_ly}, batch={batch_size}, momentum={momentum}\")\n",
        "nn2 = NeuralNetwork(train_data, test_data, n_input, n_output, hidden_ly)\n",
        "nn2.train(num_epochs, batch_size, momentum, learning_rate)\n",
        "nn2.evaluate()"
      ]
    },
    {
      "cell_type": "code",
      "execution_count": null,
      "id": "a0d4454a",
      "metadata": {
        "id": "a0d4454a",
        "outputId": "d15bfa08-bf15-4113-cf07-5b4ad4a7e46b"
      },
      "outputs": [
        {
          "name": "stdout",
          "output_type": "stream",
          "text": [
            "learning_rate = 0.01, epochs=2500, hidden_ly=[256, 128, 32], batch=32, momentum=0.5\n",
            "Epoch 0, loss: 0.6162\n",
            "Epoch 100, loss: 0.3453\n",
            "Epoch 200, loss: 0.3480\n",
            "Epoch 300, loss: 0.4763\n",
            "Epoch 400, loss: 0.2984\n",
            "Epoch 500, loss: 0.3219\n",
            "Epoch 600, loss: 0.3472\n",
            "Epoch 700, loss: 0.2765\n",
            "Epoch 800, loss: 0.2354\n",
            "Epoch 900, loss: 0.3869\n",
            "Epoch 1000, loss: 0.3393\n",
            "Epoch 1100, loss: 0.3330\n",
            "Epoch 1200, loss: 0.2683\n",
            "Epoch 1300, loss: 0.3077\n",
            "Epoch 1400, loss: 0.3854\n",
            "Epoch 1500, loss: 0.3863\n",
            "Epoch 1600, loss: 0.3072\n",
            "Epoch 1700, loss: 0.3048\n",
            "Epoch 1800, loss: 0.3104\n",
            "Epoch 1900, loss: 0.3911\n",
            "Epoch 2000, loss: 0.2783\n",
            "Epoch 2100, loss: 0.3776\n",
            "Epoch 2200, loss: 0.3360\n",
            "Epoch 2300, loss: 0.2717\n",
            "Epoch 2400, loss: 0.3571\n",
            "Epoch 2500: average loss = 0.35971508386910317\n"
          ]
        },
        {
          "data": {
            "image/png": "[encoded data removed]",
            "text/plain": [
              "<Figure size 432x288 with 1 Axes>"
            ]
          },
          "metadata": {
            "needs_background": "light"
          },
          "output_type": "display_data"
        },
        {
          "name": "stdout",
          "output_type": "stream",
          "text": [
            "Test Accuracy: 0.8000\n"
          ]
        }
      ],
      "source": [
        "# Hyperparameters for wine dataset 5\n",
        "n_input = wine.data.shape[1]\n",
        "learning_rate = 0.01\n",
        "num_epochs = 2500\n",
        "hidden_ly = [256,128,32]\n",
        "batch_size = 32\n",
        "momentum = 0.5\n",
        "n_output=3\n",
        "print(f\"learning_rate = {learning_rate}, epochs={num_epochs}, hidden_ly={hidden_ly}, batch={batch_size}, momentum={momentum}\")\n",
        "nn2 = NeuralNetwork(train_data, test_data, n_input, n_output, hidden_ly)\n",
        "nn2.train(num_epochs, batch_size, momentum, learning_rate)\n",
        "nn2.evaluate()"
      ]
    },
    {
      "cell_type": "code",
      "execution_count": null,
      "id": "302d9c92",
      "metadata": {
        "id": "302d9c92"
      },
      "outputs": [],
      "source": []
    }
  ],
  "metadata": {
    "kernelspec": {
      "display_name": "ml",
      "language": "python",
      "name": "ml"
    },
    "language_info": {
      "codemirror_mode": {
        "name": "ipython",
        "version": 3
      },
      "file_extension": ".py",
      "mimetype": "text/x-python",
      "name": "python",
      "nbconvert_exporter": "python",
      "pygments_lexer": "ipython3",
      "version": "3.10.4"
    },
    "colab": {
      "provenance": []
    }
  },
  "nbformat": 4,
  "nbformat_minor": 5
}